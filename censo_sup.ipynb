{
  "nbformat": 4,
  "nbformat_minor": 0,
  "metadata": {
    "colab": {
      "provenance": [],
      "authorship_tag": "ABX9TyOvuOrF5/RZyZWmhQcKmJB7",
      "include_colab_link": true
    },
    "kernelspec": {
      "name": "python3",
      "display_name": "Python 3"
    },
    "language_info": {
      "name": "python"
    }
  },
  "cells": [
    {
      "cell_type": "markdown",
      "metadata": {
        "id": "view-in-github",
        "colab_type": "text"
      },
      "source": [
        "<a href=\"https://colab.research.google.com/github/vitor-marinho-fjp/censo_superior/blob/main/censo_sup.ipynb\" target=\"_parent\"><img src=\"https://colab.research.google.com/assets/colab-badge.svg\" alt=\"Open In Colab\"/></a>"
      ]
    },
    {
      "cell_type": "code",
      "execution_count": null,
      "metadata": {
        "id": "tzvg9ZJUtT1n"
      },
      "outputs": [],
      "source": [
        "import pandas as pd\n",
        "\n",
        "# Ler Microdados do Censo Escolar -----------------------------------------\n",
        "\n",
        "micro_2010 = pd.read_csv(\"Microdados/Microdados do Censo da Educação Superior 2010/dados/MICRODADOS_CADASTRO_IES_2010.CSV\", sep=\";\")\n",
        "\n",
        "micro_2011 = pd.read_csv(\"Microdados/Microdados do Censo da Educação Superior 2011/dados/MICRODADOS_CADASTRO_CURSOS_2011.CSV\", sep=\";\")\n",
        "\n",
        "micro_2012 = pd.read_csv(\"Microdados/Microdados do Censo da Educação Superior 2012/dados/MICRODADOS_CADASTRO_CURSOS_2012.CSV\", sep=\";\")\n",
        "\n",
        "micro_2013 = pd.read_csv(\"Microdados/Microdados do Censo da Educação Superior 2013/dados/MICRODADOS_CADASTRO_CURSOS_2013.CSV\", sep=\";\")\n",
        "\n",
        "micro_2014 = pd.read_csv(\"Microdados/Microdados do Censo da Educação Superior 2014/dados/MICRODADOS_CADASTRO_CURSOS_2014.CSV\", sep=\";\")\n",
        "\n",
        "micro_2015 = pd.read_csv(\"Microdados/Microdados do Censo da Educação Superior 2015/dados/MICRODADOS_CADASTRO_CURSOS_2015.CSV\", sep=\";\")\n",
        "\n",
        "micro_2016 = pd.read_csv(\"Microdados/Microdados do Censo da Educação Superior 2016/dados/MICRODADOS_CADASTRO_CURSOS_2016.CSV\", sep=\";\")\n",
        "\n",
        "micro_2017 = pd.read_csv(\"Microdados/Microdados do Censo da Educação Superior 2017/dados/MICRODADOS_CADASTRO_CURSOS_2017.CSV\", sep=\";\")\n",
        "\n",
        "micro_2018 = pd.read_csv(\"Microdados/Microdados do Censo da Educação Superior 2018/dados/MICRODADOS_CADASTRO_CURSOS_2018.CSV\", sep=\";\")\n",
        "\n",
        "micro_2019 = pd.read_csv(\"Microdados/Microdados do Censo da Educação Superior 2019/dados/MICRODADOS_CADASTRO_CURSOS_2019.CSV\", sep=\";\")\n",
        "\n",
        "micro_2020 = pd.read_csv(\"Microdados/Microdados do Censo da Educação Superior 2020/dados/MICRODADOS_CADASTRO_IES_2020.CSV\", sep=\";\")\n",
        "\n",
        "micro_2021 = pd.read_csv(\"Microdados/Microdados do Censo da Educação Superior 2021/dados/MICRODADOS_CADASTRO_CURSOS_2021.CSV\", sep=\";\")\n",
        "\n",
        "# Manipulação ------------------------------------------------------------\n",
        "\n",
        "uf_filter = 'MG'\n",
        "adm_category_filter = 3\n",
        "\n",
        "micro_2010 = micro_2010.query(f'SG_UF == \"{uf_filter}\" and TP_CATEGORIA_ADMINISTRATIVA == {adm_category_filter}')\n",
        "micro_2011 = micro_2011.query(f'SG_UF == \"{uf_filter}\" and TP_CATEGORIA_ADMINISTRATIVA == {adm_category_filter}')\n",
        "micro_2012 = micro_2012.query(f'SG_UF == \"{uf_filter}\" and TP_CATEGORIA_ADMINISTRATIVA == {adm_category_filter}')\n",
        "micro_2013 = micro_2013.query(f'SG_UF == \"{uf_filter}\" and TP_CATEGORIA_ADMINISTRATIVA == {adm_category_filter}')\n",
        "micro_2014 = micro_2014.query(f'SG_UF == \"{uf_filter}\" and TP_CATEGORIA_ADMINISTRATIVA == {adm_category_filter}')\n",
        "micro_2015 = micro_2015.query(f'SG_UF == \"{uf_filter}\" and TP_CATEGORIA_ADMINISTRATIVA == {adm_category_filter}')\n",
        "micro_2016 = micro_2016.query(f'SG_UF == \"{uf_filter}\" and TP_CATEGORIA_ADMINISTRATIVA == {adm_category_filter}')\n",
        "micro_2017 = micro_2017.query(f'SG_UF == \"{uf_filter}\" and TP_CATEGORIA_ADMINISTRATIVA == {adm_category_filter}')\n",
        "micro_2018 = micro_2018.query(f'SG_UF == \"{uf_filter}\" and TP_CATEGORIA_ADMINISTRATIVA == {adm_category_filter}')\n",
        "micro_2019 = micro_2019.query(f'SG_UF == \"{uf_filter}\" and TP_CATEGORIA_ADMINISTRATIVA == {adm_category_filter}')\n",
        "micro_2020 = micro_2020.query(f'SG_UF == \"{uf_filter}\" and TP_CATEGORIA_ADMINISTRATIVA == {adm_category_filter}')\n",
        "micro_2021 = micro_2021.query(f'SG_UF == \"{uf_filter}\" and TP_CATEGORIA_ADMINISTRATIVA == {adm_category_filter}')\n",
        "\n",
        "base = pd.concat([micro_2010, micro_2011, micro_2012, micro_2013, micro_2014, micro_2015,\n",
        "                  micro_2016, micro_2017, micro_2018, micro_2019, micro_2020, micro_2021])\n",
        "\n",
        "result = base.groupby('NU_ANO_CENSO').agg({'QT_MAT': 'sum'})\n",
        "print(result)\n",
        "\n",
        "result_2020 = micro_2020.query(f'SG_UF == \"{uf_filter}\"').agg({'QT_MAT': 'sum'})\n",
        "print(result_2020)\n",
        "\n",
        "df = micro_2020.query(f'SG_UF == \"{uf_filter}\" and TP_CATEGORIA_ADMINISTRATIVA == {adm_category_filter}') \\\n",
        "    .agg({'QT_MAT': 'sum'}).assign(NU_ANO_CENSO=2020).loc[:, ['NU_ANO_CENSO', 'QT_MAT']]\n",
        "\n",
        "# Sinopse -----------------------------------------------------------------\n",
        "\n",
        "df = df  # Assuming df is your DataFrame\n",
        "\n",
        "# Remover linhas e colunas vazias\n",
        "df_limpo = df.dropna()\n",
        "\n",
        "# Renomear colunas\n",
        "df.columns = [\"Região\", \"Tipo_Instituição\", \"Nível_Educativo\", \"Total_1\", \"Capital_1\", \"Interior_1\",\n",
        "               \"Total_2\", \"Capital_2\", \"Interior_2\", \"Total_3\", \"Capital_3\", \"Interior_3\",\n",
        "               \"Total_4\", \"Capital_4\", \"Interior_4\", \"Total_5\", \"Capital_5\", \"Interior_5\"]\n",
        "\n",
        "print(df)\n",
        "\n",
        "df = df[['Região', 'Tipo_Instituição', 'Nível_Educativo', 'Total_1']]\n",
        "\n",
        "df2 = df.query('Região == \"Minas Gerais\"')\n"
      ]
    }
  ]
}